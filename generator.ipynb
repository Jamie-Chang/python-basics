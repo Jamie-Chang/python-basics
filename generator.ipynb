{
  "cells": [
    {
      "cell_type": "markdown",
      "metadata": {
        "id": "qjz-0DSISAo1"
      },
      "source": [
        "## Simple Iterators"
      ]
    },
    {
      "cell_type": "markdown",
      "metadata": {
        "id": "7h8PC7pCYf_b"
      },
      "source": [
        "### Basic usage"
      ]
    },
    {
      "cell_type": "markdown",
      "metadata": {},
      "source": [
        "A very basic iterator can be defined using a yield inside what looks like a function. When a yield is present inside a `def` block, the result is no longer a function but what's known as a `generator`.\n",
        "\n",
        "By calling the generator, it returns a generator object. This generator object is inherently an iterator."
      ]
    },
    {
      "cell_type": "code",
      "execution_count": 4,
      "metadata": {
        "colab": {
          "base_uri": "https://localhost:8080/",
          "height": 52
        },
        "id": "SzNvxL0fRykD",
        "outputId": "5eb925ca-9653-46af-8fd8-cd5a5658c177"
      },
      "outputs": [
        {
          "data": {
            "text/plain": [
              "<generator object get_odds at 0x7ff0604aef80>"
            ]
          },
          "execution_count": 4,
          "metadata": {},
          "output_type": "execute_result"
        }
      ],
      "source": [
        "def get_odds():\n",
        "    for i in range(2):\n",
        "        yield i * 2 + 1\n",
        "\n",
        "\n",
        "get_odds()  # instead of returning a value, a generator object is returned\n"
      ]
    },
    {
      "cell_type": "markdown",
      "metadata": {},
      "source": [
        "> **What does yield mean?**\n",
        "\n",
        "> You can interpret yield in many ways. In this case the `yield` is similar to a `return` where a value is passed back to the caller.\n",
        "> The key difference is instead of simply concluding in the case of return, with yield the caller can resume the generator.\n",
        "\n",
        "\n",
        "\n",
        "To fetch values that are yielded by a `generator` we can use the python builtin `next` function."
      ]
    },
    {
      "cell_type": "code",
      "execution_count": 5,
      "metadata": {},
      "outputs": [
        {
          "name": "stdout",
          "output_type": "stream",
          "text": [
            "1\n",
            "3\n"
          ]
        }
      ],
      "source": [
        "odds = get_odds()\n",
        "\n",
        "print(next(odds))\n",
        "print(next(odds))"
      ]
    },
    {
      "cell_type": "markdown",
      "metadata": {},
      "source": [
        "Fetching when the iterator is empty will result in a `StopIteration` error."
      ]
    },
    {
      "cell_type": "code",
      "execution_count": 6,
      "metadata": {
        "colab": {
          "base_uri": "https://localhost:8080/",
          "height": 166
        },
        "id": "cuDUD9j7R9Ot",
        "outputId": "5643cc29-6218-4444-84f8-112af85cd871"
      },
      "outputs": [
        {
          "ename": "StopIteration",
          "evalue": "",
          "output_type": "error",
          "traceback": [
            "\u001b[0;31m---------------------------------------------------------------------------\u001b[0m",
            "\u001b[0;31mStopIteration\u001b[0m                             Traceback (most recent call last)",
            "\u001b[0;32m/tmp/ipykernel_563/3005327397.py\u001b[0m in \u001b[0;36m<module>\u001b[0;34m\u001b[0m\n\u001b[0;32m----> 1\u001b[0;31m \u001b[0mprint\u001b[0m\u001b[0;34m(\u001b[0m\u001b[0mnext\u001b[0m\u001b[0;34m(\u001b[0m\u001b[0modds\u001b[0m\u001b[0;34m)\u001b[0m\u001b[0;34m)\u001b[0m\u001b[0;34m\u001b[0m\u001b[0;34m\u001b[0m\u001b[0m\n\u001b[0m",
            "\u001b[0;31mStopIteration\u001b[0m: "
          ]
        }
      ],
      "source": [
        "print(next(odds))"
      ]
    },
    {
      "cell_type": "markdown",
      "metadata": {},
      "source": [
        "Easiest way to get values out of a generator object is by iterating it. This can be done in any number of ways: for-loop, turning it into a data structure etc."
      ]
    },
    {
      "cell_type": "code",
      "execution_count": 7,
      "metadata": {
        "cellView": "code",
        "colab": {
          "base_uri": "https://localhost:8080/",
          "height": 52
        },
        "id": "b6oXNfcJTguV",
        "outputId": "42e601fd-1bf5-47c1-eae6-dc2c07e08cb6"
      },
      "outputs": [
        {
          "name": "stdout",
          "output_type": "stream",
          "text": [
            "1\n",
            "3\n",
            "[1, 3]\n"
          ]
        }
      ],
      "source": [
        "for i in get_odds():\n",
        "    print(i)\n",
        "\n",
        "print(list(get_odds()))"
      ]
    },
    {
      "cell_type": "markdown",
      "metadata": {},
      "source": [
        "### The Object Model\n",
        "The `get_odds` generator is actually equivalent to the following class:"
      ]
    },
    {
      "cell_type": "code",
      "execution_count": 3,
      "metadata": {},
      "outputs": [],
      "source": [
        "from typing import Iterator\n",
        "\n",
        "\n",
        "class Odds:\n",
        "    def __int__(self):\n",
        "        self.value = 1\n",
        "\n",
        "    def __iter__(self):  # Required by Iterator\n",
        "        \"\"\"Required by the `Iterable` protocol.\n",
        "\n",
        "        Anything that can be iterated requires this method.\n",
        "        \"\"\"\n",
        "        return self\n",
        "\n",
        "    def __next__(self):  # Required by Iterator\n",
        "        \"\"\"Makes the `Iterable` a `Iterator`.\n",
        "        \"\"\"\n",
        "        value = self.value\n",
        "        self.value += 2\n",
        "        return value\n"
      ]
    },
    {
      "cell_type": "markdown",
      "metadata": {},
      "source": [
        "Here both `get_odds` and `Odds` implement the [`Iterator` protocol](https://docs.python.org/3/library/stdtypes.html#iterator-types)."
      ]
    },
    {
      "cell_type": "code",
      "execution_count": 9,
      "metadata": {},
      "outputs": [
        {
          "data": {
            "text/plain": [
              "True"
            ]
          },
          "execution_count": 9,
          "metadata": {},
          "output_type": "execute_result"
        }
      ],
      "source": [
        "from typing import Iterator\n",
        "\n",
        "isinstance(Odds(), Iterator)\n",
        "isinstance(get_odds(), Iterator)\n"
      ]
    },
    {
      "cell_type": "markdown",
      "metadata": {},
      "source": [
        "#### Iterable vs Iterator\n",
        "\n",
        "Semantically Iterables are any object that can be iterated, but iterators are the actual objects handles the state and generation of the values iterated.\n",
        "\n",
        "A `list` or `dict` can be iterated using a for-loop so they are iterable but they themselves are not iterators."
      ]
    },
    {
      "cell_type": "code",
      "execution_count": 12,
      "metadata": {},
      "outputs": [
        {
          "name": "stdout",
          "output_type": "stream",
          "text": [
            "False\n",
            "True\n"
          ]
        }
      ],
      "source": [
        "from typing import Iterable, Iterator\n",
        "\n",
        "a = [1, 2, 3, 4]\n",
        "print(isinstance(a, Iterator))\n",
        "print(isinstance(a, Iterable))"
      ]
    },
    {
      "cell_type": "markdown",
      "metadata": {},
      "source": [
        "An Iterable contains an `__iter__` method that returns the actual iterator, this can be accessed more conveniently with python's builtin `iter` function."
      ]
    },
    {
      "cell_type": "code",
      "execution_count": 13,
      "metadata": {},
      "outputs": [
        {
          "name": "stdout",
          "output_type": "stream",
          "text": [
            "iterator = <list_iterator object at 0x7ff0698d8760>\n",
            "True\n"
          ]
        }
      ],
      "source": [
        "iterator = iter(a)\n",
        "print(f\"{iterator = }\")\n",
        "print(f\"{isinstance(iterator, Iterator)}\")"
      ]
    },
    {
      "cell_type": "markdown",
      "metadata": {},
      "source": [
        "An Iterator contains a `__next__` method that returns the next value in the iterator, accessed using `next` function as shown previously. It also has an `__iter__` method, that returns itself.\n",
        "\n",
        "A rule to remember is that an Iterator is always Iterable but not necessarily the other way round."
      ]
    },
    {
      "cell_type": "code",
      "execution_count": 14,
      "metadata": {},
      "outputs": [
        {
          "name": "stdout",
          "output_type": "stream",
          "text": [
            "True\n"
          ]
        }
      ],
      "source": [
        "print(f\"{isinstance(iterator, Iterable) = }\")"
      ]
    },
    {
      "cell_type": "markdown",
      "metadata": {
        "id": "AFvKptJsT0b9"
      },
      "source": [
        "### Unending iterators"
      ]
    },
    {
      "cell_type": "markdown",
      "metadata": {},
      "source": [
        "There's no reason an iterator actually has to end. An example of this is `itertools.count(0)` which counts upwards forever. We could also write our own iterator like this:"
      ]
    },
    {
      "cell_type": "code",
      "execution_count": null,
      "metadata": {
        "id": "SPJPEaMTTrGO"
      },
      "outputs": [],
      "source": [
        "def fib():\n",
        "    n = 0\n",
        "    m = 1\n",
        "    while True:\n",
        "        n, m = m, n + m\n",
        "        yield n"
      ]
    },
    {
      "cell_type": "code",
      "execution_count": null,
      "metadata": {
        "colab": {
          "base_uri": "https://localhost:8080/",
          "height": 779
        },
        "id": "X3H4wESiT8M6",
        "outputId": "032155fa-9a90-4877-968b-7e7993187c00"
      },
      "outputs": [
        {
          "name": "stdout",
          "output_type": "stream",
          "text": [
            "Fib: 1\n",
            "Fib: 1\n",
            "Fib: 2\n",
            "Fib: 3\n",
            "Fib: 5\n",
            "Fib: 8\n",
            "Fib: 13\n",
            "Fib: 21\n",
            "Fib: 34\n",
            "Fib: 55\n",
            "Fib: 89\n",
            "Fib: 144\n",
            "Fib: 233\n",
            "Fib: 377\n",
            "Fib: 610\n",
            "Fib: 987\n",
            "Fib: 1597\n",
            "Fib: 2584\n",
            "Fib: 4181\n",
            "Fib: 6765\n",
            "Fib: 10946\n",
            "Fib: 17711\n",
            "Fib: 28657\n",
            "Fib: 46368\n",
            "Fib: 75025\n",
            "Fib: 121393\n",
            "Fib: 196418\n",
            "Fib: 317811\n",
            "Fib: 514229\n",
            "Fib: 832040\n",
            "Fib: 1346269\n",
            "Fib: 2178309\n",
            "Fib: 3524578\n"
          ]
        },
        {
          "ename": "KeyboardInterrupt",
          "evalue": "ignored",
          "output_type": "error",
          "traceback": [
            "\u001b[0;31m---------------------------------------------------------------------------\u001b[0m",
            "\u001b[0;31mKeyboardInterrupt\u001b[0m                         Traceback (most recent call last)",
            "\u001b[0;32m<ipython-input-69-d1c6f578f9c8>\u001b[0m in \u001b[0;36m<module>\u001b[0;34m()\u001b[0m\n\u001b[1;32m      3\u001b[0m \u001b[0;32mfor\u001b[0m \u001b[0mn\u001b[0m \u001b[0;32min\u001b[0m \u001b[0mfib\u001b[0m\u001b[0;34m(\u001b[0m\u001b[0;34m)\u001b[0m\u001b[0;34m:\u001b[0m\u001b[0;34m\u001b[0m\u001b[0;34m\u001b[0m\u001b[0m\n\u001b[1;32m      4\u001b[0m     \u001b[0mprint\u001b[0m\u001b[0;34m(\u001b[0m\u001b[0;34mf\"Fib: {n}\"\u001b[0m\u001b[0;34m)\u001b[0m\u001b[0;34m\u001b[0m\u001b[0;34m\u001b[0m\u001b[0m\n\u001b[0;32m----> 5\u001b[0;31m     \u001b[0mtime\u001b[0m\u001b[0;34m.\u001b[0m\u001b[0msleep\u001b[0m\u001b[0;34m(\u001b[0m\u001b[0;36m0.2\u001b[0m\u001b[0;34m)\u001b[0m\u001b[0;34m\u001b[0m\u001b[0;34m\u001b[0m\u001b[0m\n\u001b[0m",
            "\u001b[0;31mKeyboardInterrupt\u001b[0m: "
          ]
        }
      ],
      "source": [
        "import time\n",
        "\n",
        "for n in fib():\n",
        "    print(f\"Fib: {n}\")\n",
        "    time.sleep(0.2)\n"
      ]
    },
    {
      "cell_type": "markdown",
      "metadata": {
        "id": "3iw_8FydYnPp"
      },
      "source": [
        "# Context managers\n",
        "\n",
        "`yield` is useful not only for generating values for an iterator, it can be viewed as a `breakpoint` for the generator. This is very useful for spliting a generator into two parts of logic. This maps very well to the concept of a context manager.\n",
        "\n",
        "The logic before the `yield` can be mapped to `__enter__` and the logic after is the `__exit__`."
      ]
    },
    {
      "cell_type": "code",
      "execution_count": 15,
      "metadata": {
        "id": "x-pK8J4bUIV4"
      },
      "outputs": [],
      "source": [
        "def calc(a: int, b: int):\n",
        "    print(\"About to calculate a + b\")\n",
        "    result = a + b\n",
        "    yield result\n",
        "    print(\"Performing some clean up\")\n"
      ]
    },
    {
      "cell_type": "code",
      "execution_count": null,
      "metadata": {
        "id": "wmEC_JEpXk4k"
      },
      "outputs": [],
      "source": [
        "calc_iter = calc(1, 1)"
      ]
    },
    {
      "cell_type": "code",
      "execution_count": null,
      "metadata": {
        "colab": {
          "base_uri": "https://localhost:8080/",
          "height": 52
        },
        "id": "vL83YpHYXr-S",
        "outputId": "1698d9ce-d213-45a5-cfe6-4f63be277f8a"
      },
      "outputs": [
        {
          "name": "stdout",
          "output_type": "stream",
          "text": [
            "About to calculate a + b\n",
            "The result is 2\n"
          ]
        }
      ],
      "source": [
        "result = next(calc_iter)\n",
        "print(f\"The result is {result}\")"
      ]
    },
    {
      "cell_type": "code",
      "execution_count": null,
      "metadata": {
        "colab": {
          "base_uri": "https://localhost:8080/",
          "height": 184
        },
        "id": "XBLnrq-WXxQn",
        "outputId": "34bac6a2-7614-41a4-e8db-d94740ab4a27"
      },
      "outputs": [
        {
          "name": "stdout",
          "output_type": "stream",
          "text": [
            "Performing some clean up\n"
          ]
        },
        {
          "ename": "StopIteration",
          "evalue": "ignored",
          "output_type": "error",
          "traceback": [
            "\u001b[0;31m---------------------------------------------------------------------------\u001b[0m",
            "\u001b[0;31mStopIteration\u001b[0m                             Traceback (most recent call last)",
            "\u001b[0;32m<ipython-input-73-d15f5e8fd5f6>\u001b[0m in \u001b[0;36m<module>\u001b[0;34m()\u001b[0m\n\u001b[0;32m----> 1\u001b[0;31m \u001b[0mnext\u001b[0m\u001b[0;34m(\u001b[0m\u001b[0mcalc_iter\u001b[0m\u001b[0;34m)\u001b[0m\u001b[0;34m\u001b[0m\u001b[0;34m\u001b[0m\u001b[0m\n\u001b[0m",
            "\u001b[0;31mStopIteration\u001b[0m: "
          ]
        }
      ],
      "source": [
        "# Raises an error\n",
        "next(calc_iter)"
      ]
    },
    {
      "cell_type": "markdown",
      "metadata": {},
      "source": [
        "We can now turn this into a context manager. "
      ]
    },
    {
      "cell_type": "code",
      "execution_count": 17,
      "metadata": {},
      "outputs": [],
      "source": [
        "class CalcContext:\n",
        "    def __init__(self, a: int, b: int) -> None:\n",
        "        self.iter = calc(a, b)\n",
        "\n",
        "    def __enter__(self):\n",
        "        return next(self.iter)\n",
        "\n",
        "    def __exit__(self):\n",
        "        try:\n",
        "            next(self.iter)\n",
        "        except StopAsyncIteration:\n",
        "            return"
      ]
    },
    {
      "cell_type": "markdown",
      "metadata": {},
      "source": [
        "This is exactly what the `contextmanager` decorator does. "
      ]
    },
    {
      "cell_type": "code",
      "execution_count": 18,
      "metadata": {},
      "outputs": [],
      "source": [
        "from contextlib import contextmanager\n",
        "\n",
        "\n",
        "@contextmanager\n",
        "def calc_v2(a: int, b: int) -> Iterator[int]:\n",
        "    print(\"About to calculate a + b\")\n",
        "    result = a + b\n",
        "    yield result\n",
        "    print(\"Performing some clean up\")"
      ]
    },
    {
      "cell_type": "markdown",
      "metadata": {
        "id": "RjUz3koQYGmu"
      },
      "source": [
        "## Sending"
      ]
    },
    {
      "cell_type": "markdown",
      "metadata": {},
      "source": [
        "What if we want to provide input to our generator object? Generators have a `send` method that allows the caller to pass values into the generator. "
      ]
    },
    {
      "cell_type": "code",
      "execution_count": 19,
      "metadata": {
        "id": "tBTg_TvIjj1N"
      },
      "outputs": [],
      "source": [
        "# Same as before but takes input from the yield\n",
        "\n",
        "def calc_gen():\n",
        "    print(\"About to calculate a + b\")\n",
        "    a, b = yield\n",
        "    print(f\"a = {a}, b = {b}\")\n",
        "    result = a + b\n",
        "    yield result\n",
        "    print(\"Performing some clean up\")\n",
        "\n",
        "\n",
        "c = calc_gen()"
      ]
    },
    {
      "cell_type": "markdown",
      "metadata": {
        "id": "7T2gR7DepmEt"
      },
      "source": [
        "As before we can use ```next(c)``` to advance to the first yield point:"
      ]
    },
    {
      "cell_type": "code",
      "execution_count": 20,
      "metadata": {
        "colab": {
          "base_uri": "https://localhost:8080/",
          "height": 34
        },
        "id": "q6OWbnfFoO4P",
        "outputId": "64bf3d2f-0bd7-4beb-9c84-40cd4d23753a"
      },
      "outputs": [
        {
          "name": "stdout",
          "output_type": "stream",
          "text": [
            "About to calculate a + b\n"
          ]
        }
      ],
      "source": [
        "next(c)"
      ]
    },
    {
      "cell_type": "markdown",
      "metadata": {
        "id": "7-tp2Ruep9Uu"
      },
      "source": [
        "`next(c)` is equivalent to `c.send(None)`.\n",
        "\n",
        "What happens when we send an actual value? "
      ]
    },
    {
      "cell_type": "code",
      "execution_count": 21,
      "metadata": {
        "colab": {
          "base_uri": "https://localhost:8080/",
          "height": 34
        },
        "id": "_M1XeRSyot8l",
        "outputId": "4c788772-2f96-4450-c40a-ecceb397bc26"
      },
      "outputs": [
        {
          "name": "stdout",
          "output_type": "stream",
          "text": [
            "a = 1, b = 1\n"
          ]
        }
      ],
      "source": [
        "result = c.send((1, 1))  # type: ignore"
      ]
    },
    {
      "cell_type": "code",
      "execution_count": 22,
      "metadata": {
        "colab": {
          "base_uri": "https://localhost:8080/",
          "height": 34
        },
        "id": "4Ecmdq34o7_S",
        "outputId": "a38bc02c-79f0-4652-f831-b90310ac82f9"
      },
      "outputs": [
        {
          "name": "stdout",
          "output_type": "stream",
          "text": [
            "Result is 2\n"
          ]
        }
      ],
      "source": [
        "print(f\"Result is {result}\")"
      ]
    },
    {
      "cell_type": "markdown",
      "metadata": {
        "id": "QfA_efo7qvrC"
      },
      "source": [
        "## Event Loop"
      ]
    },
    {
      "cell_type": "markdown",
      "metadata": {
        "id": "ksa9wMnu8FnQ"
      },
      "source": [
        "In order to interact with the event loop we require something to track the progress and store the result.\n",
        "\n",
        "#### The Future Object\n",
        "The future object is a placeholder for the real value, when the value becomes available it is added to the future."
      ]
    },
    {
      "cell_type": "code",
      "execution_count": 23,
      "metadata": {
        "id": "DUKiDSBgq3kF"
      },
      "outputs": [],
      "source": [
        "class Future:\n",
        "    def __init__(self):\n",
        "        self.result = None\n",
        "\n",
        "    def set_result(self, value):\n",
        "        self.result = value\n"
      ]
    },
    {
      "cell_type": "markdown",
      "metadata": {
        "id": "4_UslcZw8aK8"
      },
      "source": [
        "Here's an example `Connection` client that uses the `Future`"
      ]
    },
    {
      "cell_type": "code",
      "execution_count": 25,
      "metadata": {
        "id": "PW63T2g78hnb"
      },
      "outputs": [],
      "source": [
        "class Connection:\n",
        "    def __init__(self):\n",
        "        self._futures = []\n",
        "\n",
        "    def fetch(self):\n",
        "        f = Future()\n",
        "        self._futures.append(f)\n",
        "        # Makes non-blocking call\n",
        "        return f\n",
        "\n",
        "    def on_receive(self, value):\n",
        "        self._futures.pop(0).set_result(value)"
      ]
    },
    {
      "cell_type": "markdown",
      "metadata": {
        "id": "T3oAF8sgSdOT"
      },
      "source": [
        "#### Coroutine\n",
        "Create a generator that `yield`s the `Future`s."
      ]
    },
    {
      "cell_type": "code",
      "execution_count": 26,
      "metadata": {
        "id": "BITq-ouRQe8N"
      },
      "outputs": [],
      "source": [
        "conn = Connection()\n",
        "\n",
        "\n",
        "def do_work():\n",
        "    a, b = yield (conn.fetch(), conn.fetch())\n",
        "    return a + b\n"
      ]
    },
    {
      "cell_type": "code",
      "execution_count": 27,
      "metadata": {
        "id": "ssr8vq-8TqVN"
      },
      "outputs": [],
      "source": [
        "generator = do_work()"
      ]
    },
    {
      "cell_type": "markdown",
      "metadata": {
        "id": "ybetLi9ESsco"
      },
      "source": [
        "Get a hold fo the futures the coroutine depends on by calling next on the generator. "
      ]
    },
    {
      "cell_type": "code",
      "execution_count": 28,
      "metadata": {
        "id": "hpv6OI1QF3hL"
      },
      "outputs": [],
      "source": [
        "f1, f2 = next(generator)\n",
        "assert f1.result is None\n",
        "assert f2.result is None"
      ]
    },
    {
      "cell_type": "markdown",
      "metadata": {
        "id": "CSjHM6IDS5Kx"
      },
      "source": [
        "Once the connection comes back witha result, the event loop will set a result."
      ]
    },
    {
      "cell_type": "code",
      "execution_count": 29,
      "metadata": {
        "id": "Gq9vlQG2Q-PE"
      },
      "outputs": [],
      "source": [
        "conn.on_receive(1)\n",
        "conn.on_receive(2)\n",
        "\n",
        "assert f1.result == 1\n",
        "assert f2.result == 2"
      ]
    },
    {
      "cell_type": "markdown",
      "metadata": {
        "id": "VP5d1AlXS_pH"
      },
      "source": [
        "Send the results back to the generator following receiving the result."
      ]
    },
    {
      "cell_type": "code",
      "execution_count": 30,
      "metadata": {
        "colab": {
          "base_uri": "https://localhost:8080/",
          "height": 34
        },
        "id": "380qTwIEROM7",
        "outputId": "94513756-f61d-4f76-ef49-38a1f169eb2c"
      },
      "outputs": [
        {
          "name": "stdout",
          "output_type": "stream",
          "text": [
            "Result is 3\n"
          ]
        }
      ],
      "source": [
        "try:\n",
        "    generator.send((f1.result, f2.result))  # type: ignore\n",
        "except StopIteration as e:\n",
        "    print(f\"Result is {e.value}\")"
      ]
    }
  ],
  "metadata": {
    "colab": {
      "name": "Generator.ipynb",
      "provenance": [],
      "toc_visible": true
    },
    "kernelspec": {
      "display_name": "Python 3",
      "name": "python3"
    },
    "language_info": {
      "codemirror_mode": {
        "name": "ipython",
        "version": 3
      },
      "file_extension": ".py",
      "mimetype": "text/x-python",
      "name": "python",
      "nbconvert_exporter": "python",
      "pygments_lexer": "ipython3",
      "version": "3.10.1"
    }
  },
  "nbformat": 4,
  "nbformat_minor": 0
}
